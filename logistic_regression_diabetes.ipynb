{
 "cells": [
  {
   "cell_type": "markdown",
   "id": "3aaf9dd9",
   "metadata": {},
   "source": [
    "# Modelowanie binarne regresji logistycznej w Pythonie - projekt."
   ]
  },
  {
   "cell_type": "markdown",
   "id": "bab703b2",
   "metadata": {},
   "source": [
    "Opracował: Kwiek Kamil"
   ]
  },
  {
   "cell_type": "markdown",
   "id": "97212d9e",
   "metadata": {},
   "source": [
    "### Objaśnienie zbioru danych.\n",
    "\n",
    "W tym przykładzie użyjemy zestawu danych dotyczących cukrzycy u pacjentów, otrzymanego z Repozytorium baz danych uczenia maszynowego UCI (Newman et al. 1998). Ten zestaw danych pochodzi pierwotnie z Narodowego Instytutu Chorób Cukrzycy i Układu Pokarmowego oraz Nerek."
   ]
  },
  {
   "cell_type": "markdown",
   "id": "a0298286",
   "metadata": {},
   "source": [
    "#### Zmienne niezależne:\n",
    "\n",
    "\n",
    "**ciąża**: liczba ciąż,\n",
    "\n",
    "**glukoza**: stężenie glukozy we krwi (test tolerancji glukozy),\n",
    "\n",
    "**ciśnienie**: ciśnienie krwi skurczowe (mm Hg),\n",
    "\n",
    "**trójglicerydy**: grubość fałdu skórnego tricepsa (mm),\n",
    "\n",
    "**insulin**: poziom insuliny w surowicy krwi po 2 godzinach od spożycia glukozy (mu U/ml),\n",
    "\n",
    "**BMI**: wskaźnik masy ciała (waga w kg / (wzrost w m)\\²),\n",
    "\n",
    "**funkcja rodowodu cukrzycowego**: wartość funkcji rodowodu cukrzycowego,\n",
    "\n",
    "**wiek**: wiek (lata)\n",
    "\n",
    "#### Zmienna zależna:\n",
    "\n",
    "\n",
    "**cukrzyca**: przypadek cukrzycy (pozytywny/negatywny),"
   ]
  },
  {
   "cell_type": "markdown",
   "id": "5ff1d063",
   "metadata": {},
   "source": [
    "### Cele modelowania"
   ]
  },
  {
   "cell_type": "markdown",
   "id": "b869ecfd",
   "metadata": {},
   "source": [
    "* Testowanie siły predykcyjnej wytrenowanego modelu na zestawie testowym danych przy użyciu różnych metryk oceny modelu.\n",
    "* Diagnostyczne przewidywanie, czy pacjent ma cukrzycę, na podstawie określonych pomiarów diagnostycznych zawartych w zestawie danych."
   ]
  },
  {
   "cell_type": "markdown",
   "id": "e462c96f",
   "metadata": {},
   "source": [
    "### Importowanie potrzebnych bibliotek."
   ]
  },
  {
   "cell_type": "code",
   "execution_count": 1,
   "id": "63986124",
   "metadata": {},
   "outputs": [],
   "source": [
    "import pandas as pd\n",
    "import numpy as np\n",
    "import matplotlib.pyplot as plt\n",
    "from sklearn.linear_model import LogisticRegression\n",
    "from sklearn.model_selection import train_test_split\n",
    "from sklearn.metrics import classification_report, confusion_matrix"
   ]
  },
  {
   "cell_type": "markdown",
   "id": "b7318935",
   "metadata": {},
   "source": [
    "### Importowanie zbioru danych zawartym w pliku csv."
   ]
  },
  {
   "cell_type": "code",
   "execution_count": 2,
   "id": "1996a117",
   "metadata": {},
   "outputs": [],
   "source": [
    "data = pd.read_csv('C:/Users/PC/OneDrive/Pulpit/indian_pima2.csv', na_values = ['NA']) #Zamienienie wszystkich 'NA' na null"
   ]
  },
  {
   "cell_type": "markdown",
   "id": "586548a4",
   "metadata": {},
   "source": [
    "### Podgląd danych"
   ]
  },
  {
   "cell_type": "code",
   "execution_count": 3,
   "id": "a3582c86",
   "metadata": {},
   "outputs": [
    {
     "data": {
      "text/html": [
       "<div>\n",
       "<style scoped>\n",
       "    .dataframe tbody tr th:only-of-type {\n",
       "        vertical-align: middle;\n",
       "    }\n",
       "\n",
       "    .dataframe tbody tr th {\n",
       "        vertical-align: top;\n",
       "    }\n",
       "\n",
       "    .dataframe thead th {\n",
       "        text-align: right;\n",
       "    }\n",
       "</style>\n",
       "<table border=\"1\" class=\"dataframe\">\n",
       "  <thead>\n",
       "    <tr style=\"text-align: right;\">\n",
       "      <th></th>\n",
       "      <th>Unnamed: 0</th>\n",
       "      <th>pregnant</th>\n",
       "      <th>glucose</th>\n",
       "      <th>pressure</th>\n",
       "      <th>triceps</th>\n",
       "      <th>insulin</th>\n",
       "      <th>mass</th>\n",
       "      <th>pedigree</th>\n",
       "      <th>age</th>\n",
       "      <th>diabetes</th>\n",
       "    </tr>\n",
       "  </thead>\n",
       "  <tbody>\n",
       "    <tr>\n",
       "      <th>0</th>\n",
       "      <td>1</td>\n",
       "      <td>6</td>\n",
       "      <td>148.0</td>\n",
       "      <td>72.0</td>\n",
       "      <td>35.0</td>\n",
       "      <td>NaN</td>\n",
       "      <td>33.6</td>\n",
       "      <td>0.627</td>\n",
       "      <td>50</td>\n",
       "      <td>pos</td>\n",
       "    </tr>\n",
       "    <tr>\n",
       "      <th>1</th>\n",
       "      <td>2</td>\n",
       "      <td>1</td>\n",
       "      <td>85.0</td>\n",
       "      <td>66.0</td>\n",
       "      <td>29.0</td>\n",
       "      <td>NaN</td>\n",
       "      <td>26.6</td>\n",
       "      <td>0.351</td>\n",
       "      <td>31</td>\n",
       "      <td>neg</td>\n",
       "    </tr>\n",
       "    <tr>\n",
       "      <th>2</th>\n",
       "      <td>3</td>\n",
       "      <td>8</td>\n",
       "      <td>183.0</td>\n",
       "      <td>64.0</td>\n",
       "      <td>NaN</td>\n",
       "      <td>NaN</td>\n",
       "      <td>23.3</td>\n",
       "      <td>0.672</td>\n",
       "      <td>32</td>\n",
       "      <td>pos</td>\n",
       "    </tr>\n",
       "    <tr>\n",
       "      <th>3</th>\n",
       "      <td>4</td>\n",
       "      <td>1</td>\n",
       "      <td>89.0</td>\n",
       "      <td>66.0</td>\n",
       "      <td>23.0</td>\n",
       "      <td>94.0</td>\n",
       "      <td>28.1</td>\n",
       "      <td>0.167</td>\n",
       "      <td>21</td>\n",
       "      <td>neg</td>\n",
       "    </tr>\n",
       "    <tr>\n",
       "      <th>4</th>\n",
       "      <td>5</td>\n",
       "      <td>0</td>\n",
       "      <td>137.0</td>\n",
       "      <td>40.0</td>\n",
       "      <td>35.0</td>\n",
       "      <td>168.0</td>\n",
       "      <td>43.1</td>\n",
       "      <td>2.288</td>\n",
       "      <td>33</td>\n",
       "      <td>pos</td>\n",
       "    </tr>\n",
       "  </tbody>\n",
       "</table>\n",
       "</div>"
      ],
      "text/plain": [
       "   Unnamed: 0  pregnant  glucose  pressure  triceps  insulin  mass  pedigree  \\\n",
       "0           1         6    148.0      72.0     35.0      NaN  33.6     0.627   \n",
       "1           2         1     85.0      66.0     29.0      NaN  26.6     0.351   \n",
       "2           3         8    183.0      64.0      NaN      NaN  23.3     0.672   \n",
       "3           4         1     89.0      66.0     23.0     94.0  28.1     0.167   \n",
       "4           5         0    137.0      40.0     35.0    168.0  43.1     2.288   \n",
       "\n",
       "   age diabetes  \n",
       "0   50      pos  \n",
       "1   31      neg  \n",
       "2   32      pos  \n",
       "3   21      neg  \n",
       "4   33      pos  "
      ]
     },
     "execution_count": 3,
     "metadata": {},
     "output_type": "execute_result"
    }
   ],
   "source": [
    "data.head()"
   ]
  },
  {
   "cell_type": "code",
   "execution_count": 4,
   "id": "c464d5c5",
   "metadata": {},
   "outputs": [
    {
     "name": "stdout",
     "output_type": "stream",
     "text": [
      "     Unnamed: 0  pregnant  glucose  pressure  triceps  insulin  mass  \\\n",
      "0             1         6    148.0      72.0     35.0      NaN  33.6   \n",
      "1             2         1     85.0      66.0     29.0      NaN  26.6   \n",
      "2             3         8    183.0      64.0      NaN      NaN  23.3   \n",
      "3             4         1     89.0      66.0     23.0     94.0  28.1   \n",
      "4             5         0    137.0      40.0     35.0    168.0  43.1   \n",
      "..          ...       ...      ...       ...      ...      ...   ...   \n",
      "763         764        10    101.0      76.0     48.0    180.0  32.9   \n",
      "764         765         2    122.0      70.0     27.0      NaN  36.8   \n",
      "765         766         5    121.0      72.0     23.0    112.0  26.2   \n",
      "766         767         1    126.0      60.0      NaN      NaN  30.1   \n",
      "767         768         1     93.0      70.0     31.0      NaN  30.4   \n",
      "\n",
      "     pedigree  age diabetes  \n",
      "0       0.627   50      pos  \n",
      "1       0.351   31      neg  \n",
      "2       0.672   32      pos  \n",
      "3       0.167   21      neg  \n",
      "4       2.288   33      pos  \n",
      "..        ...  ...      ...  \n",
      "763     0.171   63      neg  \n",
      "764     0.340   27      neg  \n",
      "765     0.245   30      neg  \n",
      "766     0.349   47      pos  \n",
      "767     0.315   23      neg  \n",
      "\n",
      "[768 rows x 10 columns]\n"
     ]
    }
   ],
   "source": [
    "print(data)"
   ]
  },
  {
   "cell_type": "markdown",
   "id": "6fe42e80",
   "metadata": {},
   "source": [
    "Zestaw danych dotyczący cukrzycy zawiera `768 obserwacji` i `10 zmiennych`. Pierwsze 8 zmiennych są typu numerycznego, a zmienna zależna jest typu kategorycznego. Zauważalne jest również, że wiele zmiennych zawiera wartości null. Naszym kolejnym zadaniem jest modyfikacja danych tak, aby były kompatybilne z algorytmem modelowania."
   ]
  },
  {
   "cell_type": "code",
   "execution_count": 5,
   "id": "7532e72c",
   "metadata": {},
   "outputs": [
    {
     "name": "stdout",
     "output_type": "stream",
     "text": [
      "<class 'pandas.core.frame.DataFrame'>\n",
      "RangeIndex: 768 entries, 0 to 767\n",
      "Data columns (total 10 columns):\n",
      " #   Column      Non-Null Count  Dtype  \n",
      "---  ------      --------------  -----  \n",
      " 0   Unnamed: 0  768 non-null    int64  \n",
      " 1   pregnant    768 non-null    int64  \n",
      " 2   glucose     763 non-null    float64\n",
      " 3   pressure    733 non-null    float64\n",
      " 4   triceps     541 non-null    float64\n",
      " 5   insulin     394 non-null    float64\n",
      " 6   mass        757 non-null    float64\n",
      " 7   pedigree    768 non-null    float64\n",
      " 8   age         768 non-null    int64  \n",
      " 9   diabetes    768 non-null    object \n",
      "dtypes: float64(6), int64(3), object(1)\n",
      "memory usage: 60.1+ KB\n"
     ]
    }
   ],
   "source": [
    "data.info()"
   ]
  },
  {
   "cell_type": "code",
   "execution_count": 6,
   "id": "7aa41488",
   "metadata": {},
   "outputs": [
    {
     "data": {
      "text/html": [
       "<div>\n",
       "<style scoped>\n",
       "    .dataframe tbody tr th:only-of-type {\n",
       "        vertical-align: middle;\n",
       "    }\n",
       "\n",
       "    .dataframe tbody tr th {\n",
       "        vertical-align: top;\n",
       "    }\n",
       "\n",
       "    .dataframe thead th {\n",
       "        text-align: right;\n",
       "    }\n",
       "</style>\n",
       "<table border=\"1\" class=\"dataframe\">\n",
       "  <thead>\n",
       "    <tr style=\"text-align: right;\">\n",
       "      <th></th>\n",
       "      <th>Unnamed: 0</th>\n",
       "      <th>pregnant</th>\n",
       "      <th>glucose</th>\n",
       "      <th>pressure</th>\n",
       "      <th>triceps</th>\n",
       "      <th>insulin</th>\n",
       "      <th>mass</th>\n",
       "      <th>pedigree</th>\n",
       "      <th>age</th>\n",
       "    </tr>\n",
       "  </thead>\n",
       "  <tbody>\n",
       "    <tr>\n",
       "      <th>count</th>\n",
       "      <td>768.000000</td>\n",
       "      <td>768.000000</td>\n",
       "      <td>763.000000</td>\n",
       "      <td>733.000000</td>\n",
       "      <td>541.000000</td>\n",
       "      <td>394.000000</td>\n",
       "      <td>757.000000</td>\n",
       "      <td>768.000000</td>\n",
       "      <td>768.000000</td>\n",
       "    </tr>\n",
       "    <tr>\n",
       "      <th>mean</th>\n",
       "      <td>384.500000</td>\n",
       "      <td>3.845052</td>\n",
       "      <td>121.686763</td>\n",
       "      <td>72.405184</td>\n",
       "      <td>29.153420</td>\n",
       "      <td>155.548223</td>\n",
       "      <td>32.457464</td>\n",
       "      <td>0.471876</td>\n",
       "      <td>33.240885</td>\n",
       "    </tr>\n",
       "    <tr>\n",
       "      <th>std</th>\n",
       "      <td>221.846794</td>\n",
       "      <td>3.369578</td>\n",
       "      <td>30.535641</td>\n",
       "      <td>12.382158</td>\n",
       "      <td>10.476982</td>\n",
       "      <td>118.775855</td>\n",
       "      <td>6.924988</td>\n",
       "      <td>0.331329</td>\n",
       "      <td>11.760232</td>\n",
       "    </tr>\n",
       "    <tr>\n",
       "      <th>min</th>\n",
       "      <td>1.000000</td>\n",
       "      <td>0.000000</td>\n",
       "      <td>44.000000</td>\n",
       "      <td>24.000000</td>\n",
       "      <td>7.000000</td>\n",
       "      <td>14.000000</td>\n",
       "      <td>18.200000</td>\n",
       "      <td>0.078000</td>\n",
       "      <td>21.000000</td>\n",
       "    </tr>\n",
       "    <tr>\n",
       "      <th>25%</th>\n",
       "      <td>192.750000</td>\n",
       "      <td>1.000000</td>\n",
       "      <td>99.000000</td>\n",
       "      <td>64.000000</td>\n",
       "      <td>22.000000</td>\n",
       "      <td>76.250000</td>\n",
       "      <td>27.500000</td>\n",
       "      <td>0.243750</td>\n",
       "      <td>24.000000</td>\n",
       "    </tr>\n",
       "    <tr>\n",
       "      <th>50%</th>\n",
       "      <td>384.500000</td>\n",
       "      <td>3.000000</td>\n",
       "      <td>117.000000</td>\n",
       "      <td>72.000000</td>\n",
       "      <td>29.000000</td>\n",
       "      <td>125.000000</td>\n",
       "      <td>32.300000</td>\n",
       "      <td>0.372500</td>\n",
       "      <td>29.000000</td>\n",
       "    </tr>\n",
       "    <tr>\n",
       "      <th>75%</th>\n",
       "      <td>576.250000</td>\n",
       "      <td>6.000000</td>\n",
       "      <td>141.000000</td>\n",
       "      <td>80.000000</td>\n",
       "      <td>36.000000</td>\n",
       "      <td>190.000000</td>\n",
       "      <td>36.600000</td>\n",
       "      <td>0.626250</td>\n",
       "      <td>41.000000</td>\n",
       "    </tr>\n",
       "    <tr>\n",
       "      <th>max</th>\n",
       "      <td>768.000000</td>\n",
       "      <td>17.000000</td>\n",
       "      <td>199.000000</td>\n",
       "      <td>122.000000</td>\n",
       "      <td>99.000000</td>\n",
       "      <td>846.000000</td>\n",
       "      <td>67.100000</td>\n",
       "      <td>2.420000</td>\n",
       "      <td>81.000000</td>\n",
       "    </tr>\n",
       "  </tbody>\n",
       "</table>\n",
       "</div>"
      ],
      "text/plain": [
       "       Unnamed: 0    pregnant     glucose    pressure     triceps     insulin  \\\n",
       "count  768.000000  768.000000  763.000000  733.000000  541.000000  394.000000   \n",
       "mean   384.500000    3.845052  121.686763   72.405184   29.153420  155.548223   \n",
       "std    221.846794    3.369578   30.535641   12.382158   10.476982  118.775855   \n",
       "min      1.000000    0.000000   44.000000   24.000000    7.000000   14.000000   \n",
       "25%    192.750000    1.000000   99.000000   64.000000   22.000000   76.250000   \n",
       "50%    384.500000    3.000000  117.000000   72.000000   29.000000  125.000000   \n",
       "75%    576.250000    6.000000  141.000000   80.000000   36.000000  190.000000   \n",
       "max    768.000000   17.000000  199.000000  122.000000   99.000000  846.000000   \n",
       "\n",
       "             mass    pedigree         age  \n",
       "count  757.000000  768.000000  768.000000  \n",
       "mean    32.457464    0.471876   33.240885  \n",
       "std      6.924988    0.331329   11.760232  \n",
       "min     18.200000    0.078000   21.000000  \n",
       "25%     27.500000    0.243750   24.000000  \n",
       "50%     32.300000    0.372500   29.000000  \n",
       "75%     36.600000    0.626250   41.000000  \n",
       "max     67.100000    2.420000   81.000000  "
      ]
     },
     "execution_count": 6,
     "metadata": {},
     "output_type": "execute_result"
    }
   ],
   "source": [
    "data.describe()"
   ]
  },
  {
   "cell_type": "markdown",
   "id": "d0fba278",
   "metadata": {},
   "source": [
    "### Czyszczenie danych"
   ]
  },
  {
   "cell_type": "code",
   "execution_count": 7,
   "id": "1985c46d",
   "metadata": {},
   "outputs": [
    {
     "name": "stdout",
     "output_type": "stream",
     "text": [
      "True\n"
     ]
    }
   ],
   "source": [
    "# Sprawdzenie, czy zbiór danych zawiera wartości null\n",
    "print(data.isnull().values.any())"
   ]
  },
  {
   "cell_type": "code",
   "execution_count": 8,
   "id": "73c5c369",
   "metadata": {},
   "outputs": [
    {
     "name": "stdout",
     "output_type": "stream",
     "text": [
      "Unnamed: 0      0\n",
      "pregnant        0\n",
      "glucose         5\n",
      "pressure       35\n",
      "triceps       227\n",
      "insulin       374\n",
      "mass           11\n",
      "pedigree        0\n",
      "age             0\n",
      "diabetes        0\n",
      "dtype: int64\n"
     ]
    }
   ],
   "source": [
    "# Liczba wartości null w każdej kolumnie\n",
    "print(data.isnull().sum())"
   ]
  },
  {
   "cell_type": "code",
   "execution_count": 9,
   "id": "32433c64",
   "metadata": {},
   "outputs": [],
   "source": [
    "# Usunięcie wierszy zawierających wartości null\n",
    "data = data.dropna()\n",
    "\n",
    "# Usunięcie kolumn zawierających wartości null\n",
    "data = data.dropna(axis=1)"
   ]
  },
  {
   "cell_type": "code",
   "execution_count": 10,
   "id": "0636657c",
   "metadata": {},
   "outputs": [
    {
     "name": "stdout",
     "output_type": "stream",
     "text": [
      "Unnamed: 0    0\n",
      "pregnant      0\n",
      "glucose       0\n",
      "pressure      0\n",
      "triceps       0\n",
      "insulin       0\n",
      "mass          0\n",
      "pedigree      0\n",
      "age           0\n",
      "diabetes      0\n",
      "dtype: int64\n"
     ]
    }
   ],
   "source": [
    "# Liczba wartości null w każdej kolumnie\n",
    "print(data.isnull().sum())"
   ]
  },
  {
   "cell_type": "markdown",
   "id": "9e611ba7",
   "metadata": {},
   "source": [
    "Udało się usunąć wszystkiw wartości `null` z naszego zbioru danych."
   ]
  },
  {
   "cell_type": "code",
   "execution_count": 11,
   "id": "97e84389",
   "metadata": {},
   "outputs": [
    {
     "name": "stdout",
     "output_type": "stream",
     "text": [
      "     Unnamed: 0  pregnant  glucose  pressure  triceps  insulin  mass  \\\n",
      "3             4         1     89.0      66.0     23.0     94.0  28.1   \n",
      "4             5         0    137.0      40.0     35.0    168.0  43.1   \n",
      "6             7         3     78.0      50.0     32.0     88.0  31.0   \n",
      "8             9         2    197.0      70.0     45.0    543.0  30.5   \n",
      "13           14         1    189.0      60.0     23.0    846.0  30.1   \n",
      "..          ...       ...      ...       ...      ...      ...   ...   \n",
      "753         754         0    181.0      88.0     44.0    510.0  43.3   \n",
      "755         756         1    128.0      88.0     39.0    110.0  36.5   \n",
      "760         761         2     88.0      58.0     26.0     16.0  28.4   \n",
      "763         764        10    101.0      76.0     48.0    180.0  32.9   \n",
      "765         766         5    121.0      72.0     23.0    112.0  26.2   \n",
      "\n",
      "     pedigree  age diabetes  \n",
      "3       0.167   21      neg  \n",
      "4       2.288   33      pos  \n",
      "6       0.248   26      pos  \n",
      "8       0.158   53      pos  \n",
      "13      0.398   59      pos  \n",
      "..        ...  ...      ...  \n",
      "753     0.222   26      pos  \n",
      "755     1.057   37      pos  \n",
      "760     0.766   22      neg  \n",
      "763     0.171   63      neg  \n",
      "765     0.245   30      neg  \n",
      "\n",
      "[392 rows x 10 columns]\n"
     ]
    }
   ],
   "source": [
    "print(data)"
   ]
  },
  {
   "cell_type": "markdown",
   "id": "7ae349f4",
   "metadata": {},
   "source": [
    "Ostateczne dane zawierają `392 obserwacje` i `10 kolumn`. Zmienne niezależne są typu numerycznego, a zależna binarna zmienna wyjściowa jest typu kategorycznego (neg/pos)."
   ]
  },
  {
   "cell_type": "markdown",
   "id": "e732e912",
   "metadata": {},
   "source": [
    "### Sprawdzenie poziomu referencyjnego"
   ]
  },
  {
   "cell_type": "markdown",
   "id": "9d92c7d4",
   "metadata": {},
   "source": [
    "Dla lepszej interpretacji (później przy tworzeniu krzywej ROC) musimy ustawić poziom referencyjny naszej zmiennej zależnej `diabetes` na pozytywny (pos) przy użyciu funkcji `replace()`."
   ]
  },
  {
   "cell_type": "markdown",
   "id": "177eda4e",
   "metadata": {},
   "source": [
    "Sprawdzamy poziom referencyjny naszej zmiennej o"
   ]
  },
  {
   "cell_type": "code",
   "execution_count": 12,
   "id": "76645930",
   "metadata": {},
   "outputs": [
    {
     "name": "stdout",
     "output_type": "stream",
     "text": [
      "Pierwszy poziom zmiennej zależnej to: neg\n"
     ]
    }
   ],
   "source": [
    "pierwszy_poziom = data['diabetes'].value_counts().index[0]\n",
    "\n",
    "print(\"Pierwszy poziom zmiennej zależnej to:\", pierwszy_poziom)"
   ]
  },
  {
   "cell_type": "code",
   "execution_count": 13,
   "id": "e7d46bff",
   "metadata": {},
   "outputs": [],
   "source": [
    "data['diabetes'] = data['diabetes'].replace({'pos': 'neg', 'neg': 'pos'})"
   ]
  },
  {
   "cell_type": "code",
   "execution_count": 14,
   "id": "b0442347",
   "metadata": {},
   "outputs": [
    {
     "name": "stdout",
     "output_type": "stream",
     "text": [
      "Pierwszy poziom zmiennej zależnej to: pos\n"
     ]
    }
   ],
   "source": [
    "pierwszy_poziom = data['diabetes'].value_counts().index[0]\n",
    "\n",
    "print(\"Pierwszy poziom zmiennej zależnej to:\", pierwszy_poziom)"
   ]
  },
  {
   "cell_type": "markdown",
   "id": "79231dc2",
   "metadata": {},
   "source": [
    "### Podział na zbiór treningowy i testowy"
   ]
  },
  {
   "cell_type": "markdown",
   "id": "cd948d11",
   "metadata": {},
   "source": [
    "Podział całego zbioru danych na zbiór treningowy i testowy to zazwyczaj `75% zbioru treningowego` i `25% zbioru testowego` (reguła ogólna). `3/4` danych treningowych jest używane do treningu modelu, a pozostała `1/4` służy do sprawdzenia, jak model generalizuje na nowych danych testowych."
   ]
  },
  {
   "cell_type": "code",
   "execution_count": 20,
   "id": "6b83e8fe",
   "metadata": {},
   "outputs": [],
   "source": [
    "X = data.drop('diabetes', axis=1)\n",
    "y = data['diabetes']\n",
    "\n",
    "X_train, X_test, y_train, y_test = train_test_split(X, y, test_size=0.25, random_state=42)"
   ]
  },
  {
   "cell_type": "code",
   "execution_count": 21,
   "id": "ce390773",
   "metadata": {},
   "outputs": [
    {
     "name": "stdout",
     "output_type": "stream",
     "text": [
      "Rozmiary zbiorów:\n",
      "Zbiór treningowy: (294, 9), diabetes: (294,)\n",
      "Zbiór testowy: (98, 9), diabetes: (98,)\n"
     ]
    }
   ],
   "source": [
    "# wyświetlenie wymiarów zbiorów\n",
    "print('Rozmiary zbiorów:')\n",
    "print(f'Zbiór treningowy: {X_train.shape}, diabetes: {y_train.shape}')\n",
    "print(f'Zbiór testowy: {X_test.shape}, diabetes: {y_test.shape}')"
   ]
  },
  {
   "cell_type": "markdown",
   "id": "0a382545",
   "metadata": {},
   "source": [
    "Zbiór treningowy zawiera `294 obserwacji`, natomiast zbiór testowy zawiera `98 obserwacji`."
   ]
  },
  {
   "cell_type": "markdown",
   "id": "e36d68f6",
   "metadata": {},
   "source": [
    "### Dopasowanie regresji logistycznej"
   ]
  },
  {
   "cell_type": "code",
   "execution_count": 32,
   "id": "1c6e29d7",
   "metadata": {},
   "outputs": [
    {
     "data": {
      "text/plain": [
       "LogisticRegression(max_iter=1000)"
      ]
     },
     "execution_count": 32,
     "metadata": {},
     "output_type": "execute_result"
    }
   ],
   "source": [
    "# Dopasowanie modelu regresji logistycznej\n",
    "logistic_model = LogisticRegression(max_iter=1000)\n",
    "logistic_model.fit(X_train, y_train)"
   ]
  },
  {
   "cell_type": "markdown",
   "id": "c16058a1",
   "metadata": {},
   "source": [
    "### Predykcja modelu"
   ]
  },
  {
   "cell_type": "code",
   "execution_count": 28,
   "id": "28d91b57",
   "metadata": {},
   "outputs": [],
   "source": [
    "#Generowanie predykcji dla danych testowych\n",
    "y_pred = logistic_model.predict(X_test)"
   ]
  },
  {
   "cell_type": "code",
   "execution_count": 33,
   "id": "b08cae56",
   "metadata": {},
   "outputs": [
    {
     "data": {
      "text/plain": [
       "array(['pos', 'pos', 'neg', 'neg'], dtype=object)"
      ]
     },
     "execution_count": 33,
     "metadata": {},
     "output_type": "execute_result"
    }
   ],
   "source": [
    "#Wyświetlenie pięciu pierwszych wierszy predykcji klas\n",
    "y_pred[1:5,]"
   ]
  },
  {
   "cell_type": "code",
   "execution_count": 36,
   "id": "1bc978e7",
   "metadata": {},
   "outputs": [],
   "source": [
    "#Generowanie prawdopodobieństw klas dla danych testowych\n",
    "y_proba = logistic_model.predict_proba(X_test)"
   ]
  },
  {
   "cell_type": "code",
   "execution_count": 38,
   "id": "84ab4743",
   "metadata": {},
   "outputs": [
    {
     "data": {
      "text/plain": [
       "array([[0.29182507, 0.70817493],\n",
       "       [0.02711186, 0.97288814],\n",
       "       [0.89776553, 0.10223447],\n",
       "       [0.82303632, 0.17696368]])"
      ]
     },
     "execution_count": 38,
     "metadata": {},
     "output_type": "execute_result"
    }
   ],
   "source": [
    "#Wyświetlenie pięciu pierwszych wierszy predykcji prawdopodobieństw klas dla danych testowych (odpowiednio pos i neg)\n",
    "y_proba[1:5,]"
   ]
  },
  {
   "cell_type": "markdown",
   "id": "0fae4c4e",
   "metadata": {},
   "source": [
    "### Przygotowanie danych końcowych do oceny modelu"
   ]
  },
  {
   "cell_type": "markdown",
   "id": "42a191f2",
   "metadata": {},
   "source": [
    "Następnym krokiem jest przygotowanie ramki danych, która zawiera kolumnę `diabetes` z oryginalnego zestawu testowego, `przewidywaną klasę` i `prawdopodobieństwa przewidywanej klasy`."
   ]
  },
  {
   "cell_type": "code",
   "execution_count": 44,
   "id": "22512f91",
   "metadata": {},
   "outputs": [],
   "source": [
    "# Tworzenie ramki danych\n",
    "result_df = pd.DataFrame()\n",
    "result_df['diabetes'] = y_test\n",
    "result_df['przewidywana klasa'] = y_pred\n",
    "result_df['pred_pos'] = y_proba[:, 0]\n",
    "result_df['pred_neg'] = y_proba[:, 1]"
   ]
  },
  {
   "cell_type": "code",
   "execution_count": 45,
   "id": "1cf3dbba",
   "metadata": {},
   "outputs": [
    {
     "data": {
      "text/html": [
       "<div>\n",
       "<style scoped>\n",
       "    .dataframe tbody tr th:only-of-type {\n",
       "        vertical-align: middle;\n",
       "    }\n",
       "\n",
       "    .dataframe tbody tr th {\n",
       "        vertical-align: top;\n",
       "    }\n",
       "\n",
       "    .dataframe thead th {\n",
       "        text-align: right;\n",
       "    }\n",
       "</style>\n",
       "<table border=\"1\" class=\"dataframe\">\n",
       "  <thead>\n",
       "    <tr style=\"text-align: right;\">\n",
       "      <th></th>\n",
       "      <th>diabetes</th>\n",
       "      <th>przewidywana klasa</th>\n",
       "      <th>pred_pos</th>\n",
       "      <th>pred_neg</th>\n",
       "    </tr>\n",
       "  </thead>\n",
       "  <tbody>\n",
       "    <tr>\n",
       "      <th>161</th>\n",
       "      <td>pos</td>\n",
       "      <td>pos</td>\n",
       "      <td>0.295558</td>\n",
       "      <td>0.704442</td>\n",
       "    </tr>\n",
       "    <tr>\n",
       "      <th>538</th>\n",
       "      <td>pos</td>\n",
       "      <td>pos</td>\n",
       "      <td>0.291825</td>\n",
       "      <td>0.708175</td>\n",
       "    </tr>\n",
       "    <tr>\n",
       "      <th>482</th>\n",
       "      <td>pos</td>\n",
       "      <td>pos</td>\n",
       "      <td>0.027112</td>\n",
       "      <td>0.972888</td>\n",
       "    </tr>\n",
       "    <tr>\n",
       "      <th>120</th>\n",
       "      <td>neg</td>\n",
       "      <td>neg</td>\n",
       "      <td>0.897766</td>\n",
       "      <td>0.102234</td>\n",
       "    </tr>\n",
       "    <tr>\n",
       "      <th>753</th>\n",
       "      <td>neg</td>\n",
       "      <td>neg</td>\n",
       "      <td>0.823036</td>\n",
       "      <td>0.176964</td>\n",
       "    </tr>\n",
       "  </tbody>\n",
       "</table>\n",
       "</div>"
      ],
      "text/plain": [
       "    diabetes przewidywana klasa  pred_pos  pred_neg\n",
       "161      pos                pos  0.295558  0.704442\n",
       "538      pos                pos  0.291825  0.708175\n",
       "482      pos                pos  0.027112  0.972888\n",
       "120      neg                neg  0.897766  0.102234\n",
       "753      neg                neg  0.823036  0.176964"
      ]
     },
     "execution_count": 45,
     "metadata": {},
     "output_type": "execute_result"
    }
   ],
   "source": [
    "result_df.head()"
   ]
  },
  {
   "cell_type": "markdown",
   "id": "3a86568c",
   "metadata": {},
   "source": [
    "### Ocena modelu"
   ]
  },
  {
   "cell_type": "code",
   "execution_count": 46,
   "id": "833f112b",
   "metadata": {},
   "outputs": [
    {
     "name": "stdout",
     "output_type": "stream",
     "text": [
      "Dokładność modelu: 72.45%\n"
     ]
    }
   ],
   "source": [
    "from sklearn.metrics import accuracy_score\n",
    "\n",
    "accuracy = accuracy_score(y_test, y_pred)\n",
    "print(\"Dokładność modelu: {:.2f}%\".format(accuracy*100))"
   ]
  },
  {
   "cell_type": "code",
   "execution_count": 47,
   "id": "c4235d7a",
   "metadata": {},
   "outputs": [
    {
     "name": "stdout",
     "output_type": "stream",
     "text": [
      "[[16 16]\n",
      " [11 55]]\n"
     ]
    }
   ],
   "source": [
    "from sklearn.metrics import confusion_matrix\n",
    "# Tworzenie macierzy pomyłek\n",
    "cm = confusion_matrix(y_test, y_pred)\n",
    "print(cm)"
   ]
  },
  {
   "cell_type": "code",
   "execution_count": 48,
   "id": "837f22eb",
   "metadata": {},
   "outputs": [
    {
     "data": {
      "image/png": "[encoded data removed]",
      "text/plain": [
       "<Figure size 432x288 with 2 Axes>"
      ]
     },
     "metadata": {
      "needs_background": "light"
     },
     "output_type": "display_data"
    }
   ],
   "source": [
    "from sklearn.metrics import plot_confusion_matrix\n",
    "\n",
    "# Wyświetlanie macierzy pomyłek\n",
    "plot_confusion_matrix(logistic_model, X_test, y_test)\n",
    "plt.show()"
   ]
  },
  {
   "cell_type": "markdown",
   "id": "35fd8584",
   "metadata": {},
   "source": [
    "### ROC - AUC"
   ]
  },
  {
   "cell_type": "markdown",
   "id": "38da13ea",
   "metadata": {},
   "source": [
    "`Krzywa ROC` to narzędzie służące do oceny wydajności modelu klasyfikacji binarnej. Przedstawia zależność między czułością (true positive rate- TPR) a specyficznością (ang. true negative rate - TNR) w różnych punktach odcięcia (progu) dla klasyfikatora. Krzywą ROC można wygenerować za pomocą funkcji `roc_auc_score()`, w której trzeba podać kolumnę prawdy (cukrzyca) oraz przewidywane prawdopodobieństwa dla klasy pozytywnej (y_prob)."
   ]
  },
  {
   "cell_type": "code",
   "execution_count": 87,
   "id": "294bd83b",
   "metadata": {},
   "outputs": [
    {
     "name": "stdout",
     "output_type": "stream",
     "text": [
      "ROC AUC wynosi: 0.81\n"
     ]
    }
   ],
   "source": [
    "from sklearn.metrics import roc_auc_score\n",
    "\n",
    "# Obliczanie ROC AUC dla zbioru testowego\n",
    "y_prob = logistic_model.predict_proba(X_test)[:, 1] # wybieramy kolumnę dla klasy pozytywnej\n",
    "roc_auc = roc_auc_score(y_test, y_prob)\n",
    "print(\"ROC AUC wynosi: {:.2f}\".format(roc_auc))"
   ]
  },
  {
   "cell_type": "markdown",
   "id": "ea14ec99",
   "metadata": {},
   "source": [
    "### Krzywa ROC"
   ]
  },
  {
   "cell_type": "code",
   "execution_count": 86,
   "id": "fc4d7c14",
   "metadata": {},
   "outputs": [
    {
     "data": {
      "image/png": "[encoded data removed]",
      "text/plain": [
       "<Figure size 432x288 with 1 Axes>"
      ]
     },
     "metadata": {
      "needs_background": "light"
     },
     "output_type": "display_data"
    }
   ],
   "source": [
    "from sklearn.metrics import plot_roc_curve\n",
    "\n",
    "plot_roc_curve(logistic_model, X_test, y_test)\n",
    "plt.show()"
   ]
  },
  {
   "cell_type": "markdown",
   "id": "04f24ad9",
   "metadata": {},
   "source": [
    "### Podsumowanie"
   ]
  },
  {
   "cell_type": "markdown",
   "id": "ac906e58",
   "metadata": {},
   "source": [
    "Nasz model uzyskał wynik `ROC-AUC` wynoszący `0.81`, co wskazuje na `dobrze działający model, który potrafi odróżnić pacjentów z cukrzycą od tych bez niej`."
   ]
  }
 ],
 "metadata": {
  "kernelspec": {
   "display_name": "Python 3",
   "language": "python",
   "name": "python3"
  },
  "language_info": {
   "codemirror_mode": {
    "name": "ipython",
    "version": 3
   },
   "file_extension": ".py",
   "mimetype": "text/x-python",
   "name": "python",
   "nbconvert_exporter": "python",
   "pygments_lexer": "ipython3",
   "version": "3.8.8"
  }
 },
 "nbformat": 4,
 "nbformat_minor": 5
}
